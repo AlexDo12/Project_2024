{
 "cells": [
  {
   "cell_type": "code",
   "execution_count": 1,
   "metadata": {},
   "outputs": [
    {
     "name": "stdout",
     "output_type": "stream",
     "text": [
      "Warning: Roundtrip module could not be loaded. Requires jupyter notebook version <= 7.x.\n"
     ]
    }
   ],
   "source": [
    "import sys\n",
    "sys.path.append(\"/scratch/group/csce435-f24/python-3.10.4/lib/python3.10/site-packages\")\n",
    "sys.path.append(\"/scratch/group/csce435-f24/thicket\")\n",
    "from glob import glob\n",
    "\n",
    "import matplotlib.pyplot as plt\n",
    "import pandas as pd\n",
    "\n",
    "import thicket as th\n",
    "\n",
    "pd.set_option(\"display.max_rows\", None)\n",
    "pd.set_option(\"display.max_columns\", None)"
   ]
  },
  {
   "cell_type": "markdown",
   "metadata": {},
   "source": [
    "Read all files"
   ]
  },
  {
   "cell_type": "code",
   "execution_count": 2,
   "metadata": {},
   "outputs": [
    {
     "name": "stderr",
     "output_type": "stream",
     "text": [
      "(1/2) Reading Files: 100%|██████████| 1/1 [00:00<00:00, 36.37it/s]\n",
      "0it [00:00, ?it/s]\n",
      "/home/alex/.local/lib/python3.10/site-packages/thicket/ensemble.py:409: FutureWarning: A value is trying to be set on a copy of a DataFrame or Series through chained assignment using an inplace method.\n",
      "The behavior will change in pandas 3.0. This inplace method will never work because the intermediate object on which we are setting values always behaves as a copy.\n",
      "\n",
      "For example, when doing 'df[col].method(value, inplace=True)', try using 'df.method({col: value}, inplace=True)' or df[col] = df[col].method(value) instead, to perform the operation inplace on the original object.\n",
      "\n",
      "\n",
      "  df[col].replace({numerical_fill_value: None}, inplace=True)\n"
     ]
    }
   ],
   "source": [
    "#1_trial is a name of a folder containing the cali files, you may create a folder with a different name and replace the folder name here\n",
    "tk = th.Thicket.from_caliperreader(glob(\"cali_files/sample/*.cali\"))"
   ]
  },
  {
   "cell_type": "markdown",
   "metadata": {},
   "source": [
    "View Calltree"
   ]
  },
  {
   "cell_type": "code",
   "execution_count": 3,
   "metadata": {},
   "outputs": [
    {
     "name": "stdout",
     "output_type": "stream",
     "text": [
      "  _____ _     _      _        _   \n",
      " |_   _| |__ (_) ___| | _____| |_ \n",
      "   | | | '_ \\| |/ __| |/ / _ \\ __|\n",
      "   | | | | | | | (__|   <  __/ |_ \n",
      "   |_| |_| |_|_|\\___|_|\\_\\___|\\__|  v2024.1.0\n",
      "\n",
      "\u001b[38;5;196m16.560\u001b[0m main\u001b[0m\n",
      "├─ \u001b[38;5;46m7.269\u001b[0m MPI_Comm_dup\u001b[0m\n",
      "├─ \u001b[38;5;22m0.054\u001b[0m MPI_Comm_split\u001b[0m\n",
      "├─ \u001b[38;5;22m0.000\u001b[0m MPI_Finalize\u001b[0m\n",
      "├─ \u001b[38;5;22m0.000\u001b[0m MPI_Finalized\u001b[0m\n",
      "├─ \u001b[38;5;22m0.000\u001b[0m MPI_Init\u001b[0m\n",
      "├─ \u001b[38;5;22m0.000\u001b[0m MPI_Initialized\u001b[0m\n",
      "├─ \u001b[38;5;22m1.605\u001b[0m comm\u001b[0m\n",
      "│  ├─ \u001b[38;5;22m0.392\u001b[0m comm_large\u001b[0m\n",
      "│  │  ├─ \u001b[38;5;22m0.074\u001b[0m MPI_Alltoall\u001b[0m\n",
      "│  │  ├─ \u001b[38;5;22m0.029\u001b[0m MPI_Alltoallv\u001b[0m\n",
      "│  │  ├─ \u001b[38;5;22m0.014\u001b[0m MPI_Gather\u001b[0m\n",
      "│  │  ├─ \u001b[38;5;22m0.168\u001b[0m MPI_Gatherv\u001b[0m\n",
      "│  │  └─ \u001b[38;5;22m0.108\u001b[0m MPI_Scatter\u001b[0m\n",
      "│  └─ \u001b[38;5;22m1.213\u001b[0m comm_small\u001b[0m\n",
      "│     └─ \u001b[38;5;22m1.213\u001b[0m MPI_Bcast\u001b[0m\n",
      "├─ \u001b[38;5;46m5.545\u001b[0m comp\u001b[0m\n",
      "│  ├─ \u001b[38;5;46m5.495\u001b[0m comp_large\u001b[0m\n",
      "│  └─ \u001b[38;5;22m0.050\u001b[0m comp_small\u001b[0m\n",
      "├─ \u001b[38;5;22m0.230\u001b[0m correctness_check\u001b[0m\n",
      "└─ \u001b[38;5;22m0.279\u001b[0m data_init_runtime\u001b[0m\n",
      "   └─ \u001b[38;5;22m0.123\u001b[0m MPI_Gather\u001b[0m\n",
      "\n",
      "\u001b[4mLegend\u001b[0m (Metric: Avg time/rank Min: 0.00 Max: 16.56 indices: {'profile': 1940458563})\n",
      "\u001b[38;5;196m█ \u001b[0m14.90 - 16.56\n",
      "\u001b[38;5;208m█ \u001b[0m11.59 - 14.90\n",
      "\u001b[38;5;220m█ \u001b[0m8.28 - 11.59\n",
      "\u001b[38;5;46m█ \u001b[0m4.97 - 8.28\n",
      "\u001b[38;5;34m█ \u001b[0m1.66 - 4.97\n",
      "\u001b[38;5;22m█ \u001b[0m0.00 - 1.66\n",
      "\n",
      "name\u001b[0m User code    \u001b[38;5;160m◀ \u001b[0m Only in left graph    \u001b[38;5;28m▶ \u001b[0m Only in right graph\n",
      "\n"
     ]
    }
   ],
   "source": [
    "print(tk.tree(metric_column=\"Avg time/rank\"))"
   ]
  },
  {
   "cell_type": "markdown",
   "metadata": {},
   "source": [
    "Group Performance data by `matrix_size` in the Thicket metadata table."
   ]
  },
  {
   "cell_type": "code",
   "execution_count": null,
   "metadata": {},
   "outputs": [],
   "source": [
    "tk.metadata_column_to_perfdata(\"num_procs\")\n",
    "tk.metadata_column_to_perfdata(\"matrix_size\")\n",
    "\n",
    "tk.dataframe = tk.dataframe.reset_index().set_index([\"node\", \"num_procs\", \"matrix_size\"]).sort_index()\n",
    "\n",
    "tk.dataframe.head()"
   ]
  },
  {
   "cell_type": "code",
   "execution_count": null,
   "metadata": {},
   "outputs": [],
   "source": [
    "# Define common variables\n",
    "processes = [2, 4, 8, 16, 32, 64]\n",
    "matrix_sizes = [128, 1024, 8192]"
   ]
  },
  {
   "cell_type": "code",
   "execution_count": null,
   "metadata": {},
   "outputs": [],
   "source": [
    "# Change font size for all plots\n",
    "plt.rcParams.update({\"font.size\": 20})\n",
    "print(tk.dataframe.columns)\n"
   ]
  },
  {
   "cell_type": "code",
   "execution_count": null,
   "metadata": {},
   "outputs": [],
   "source": [
    "def plot_pandas(df, title, xlabel, ylabel):\n",
    "    plot = df.plot(kind=\"line\", \n",
    "        marker='o', \n",
    "        figsize=(15,7)\n",
    "    )\n",
    "    # Set title, xlabel, and ylabel explicitly\n",
    "    plot.set_title(title)\n",
    "    plot.set_xlabel(xlabel)\n",
    "    plot.set_ylabel(ylabel)\n",
    "    return plot\n"
   ]
  },
  {
   "cell_type": "code",
   "execution_count": null,
   "metadata": {},
   "outputs": [],
   "source": [
    "# Saving plots for 'Total time'\n",
    "for node in tk.graph.traverse():\n",
    "    plot = plot_pandas(\n",
    "        df=tk.dataframe.loc[node, \"Total time\"].unstack(level=\"matrix_size\"),\n",
    "        title=node.frame[\"name\"] + \" Total Computation Times\",\n",
    "        xlabel=\"Processors\",\n",
    "        ylabel=\"Time (seconds)\",\n",
    "    )\n",
    "    # Save the plot with a unique filename for each node\n",
    "    plt.savefig(f\"{node.frame['name']}_total_time_plot.png\")\n",
    "    plt.close()  # Close the figure to avoid overlapping plots\n",
    "\n",
    "# Saving plots for 'Min time/rank'\n",
    "for node in tk.graph.traverse():\n",
    "    plot = plot_pandas(\n",
    "        df=tk.dataframe.loc[node, \"Min time/rank\"].unstack(level=\"matrix_size\"),\n",
    "        title=node.frame[\"name\"] + \" Minimum Times\",\n",
    "        xlabel=\"Processors\",\n",
    "        ylabel=\"Time (seconds)\",\n",
    "    )\n",
    "    plt.savefig(f\"{node.frame['name']}_min_time_plot.png\")\n",
    "    plt.close()\n",
    "\n",
    "# Saving plots for 'Avg time/rank'\n",
    "for node in tk.graph.traverse():\n",
    "    plot = plot_pandas(\n",
    "        df=tk.dataframe.loc[node, \"Avg time/rank\"].unstack(level=\"matrix_size\"),\n",
    "        title=node.frame[\"name\"] + \" Average Times\",\n",
    "        xlabel=\"Processors\",\n",
    "        ylabel=\"Time (seconds)\",\n",
    "    )\n",
    "    plt.savefig(f\"{node.frame['name']}_avg_time_plot.png\")\n",
    "    plt.close()\n",
    "\n",
    "# Saving plots for 'Max time/rank'\n",
    "for node in tk.graph.traverse():\n",
    "    plot = plot_pandas(\n",
    "        df=tk.dataframe.loc[node, \"Max time/rank\"].unstack(level=\"matrix_size\"),\n",
    "        title=node.frame[\"name\"] + \" Maximum Time\",\n",
    "        xlabel=\"Processors\",\n",
    "        ylabel=\"Time (seconds)\",\n",
    "    )\n",
    "    plt.savefig(f\"{node.frame['name']}_max_time_plot.png\")\n",
    "    plt.close()"
   ]
  },
  {
   "cell_type": "code",
   "execution_count": null,
   "metadata": {},
   "outputs": [],
   "source": []
  }
 ],
 "metadata": {
  "kernelspec": {
   "display_name": "Python 3",
   "language": "python",
   "name": "python3"
  },
  "language_info": {
   "codemirror_mode": {
    "name": "ipython",
    "version": 3
   },
   "file_extension": ".py",
   "mimetype": "text/x-python",
   "name": "python",
   "nbconvert_exporter": "python",
   "pygments_lexer": "ipython3",
   "version": "3.10.12"
  }
 },
 "nbformat": 4,
 "nbformat_minor": 4
}
