{
 "cells": [
  {
   "cell_type": "code",
   "execution_count": 13,
   "metadata": {},
   "outputs": [],
   "source": [
    "import sys\n",
    "sys.path.append(\"/scratch/group/csce435-f24/python-3.10.4/lib/python3.10/site-packages\")\n",
    "sys.path.append(\"/scratch/group/csce435-f24/thicket\")\n",
    "from glob import glob\n",
    "\n",
    "import matplotlib.pyplot as plt\n",
    "import pandas as pd\n",
    "\n",
    "import thicket as th\n",
    "\n",
    "pd.set_option(\"display.max_rows\", None)\n",
    "pd.set_option(\"display.max_columns\", None)"
   ]
  },
  {
   "cell_type": "markdown",
   "metadata": {},
   "source": [
    "Read all files"
   ]
  },
  {
   "cell_type": "code",
   "execution_count": 14,
   "metadata": {},
   "outputs": [
    {
     "name": "stderr",
     "output_type": "stream",
     "text": [
      "(1/2) Reading Files: 100%|██████████| 3/3 [00:00<00:00, 28.03it/s]\n",
      "(2/2) Creating Thicket: 100%|██████████| 2/2 [00:00<00:00, 24.42it/s]\n"
     ]
    }
   ],
   "source": [
    "#1_trial is a name of a folder containing the cali files, you may create a folder with a different name and replace the folder name here\n",
    "tk = th.Thicket.from_caliperreader(glob(\"cali_files/*.cali\"))"
   ]
  },
  {
   "cell_type": "markdown",
   "metadata": {},
   "source": [
    "View Calltree"
   ]
  },
  {
   "cell_type": "code",
   "execution_count": 15,
   "metadata": {},
   "outputs": [
    {
     "name": "stdout",
     "output_type": "stream",
     "text": [
      "  _____ _     _      _        _   \n",
      " |_   _| |__ (_) ___| | _____| |_ \n",
      "   | | | '_ \\| |/ __| |/ / _ \\ __|\n",
      "   | | | | | | | (__|   <  __/ |_ \n",
      "   |_| |_| |_|_|\\___|_|\\_\\___|\\__|  v2024.1.0\n",
      "\n",
      "\u001b[38;5;196m3.194\u001b[0m main\u001b[0m\n",
      "├─ \u001b[38;5;34m0.354\u001b[0m MPI_Comm_dup\u001b[0m\n",
      "├─ \u001b[38;5;34m0.385\u001b[0m MPI_Comm_split\u001b[0m\n",
      "├─ \u001b[38;5;22m0.000\u001b[0m MPI_Finalize\u001b[0m\n",
      "├─ \u001b[38;5;22m0.000\u001b[0m MPI_Finalized\u001b[0m\n",
      "├─ \u001b[38;5;22m0.001\u001b[0m MPI_Init\u001b[0m\n",
      "├─ \u001b[38;5;22m0.000\u001b[0m MPI_Initialized\u001b[0m\n",
      "├─ \u001b[38;5;22m0.094\u001b[0m comm\u001b[0m\n",
      "│  ├─ \u001b[38;5;22m0.001\u001b[0m comm_large\u001b[0m\n",
      "│  │  ├─ \u001b[38;5;22m0.001\u001b[0m MPI_Gather\u001b[0m\n",
      "│  │  └─ \u001b[38;5;22m0.000\u001b[0m MPI_Scatter\u001b[0m\n",
      "│  └─ \u001b[38;5;22m0.093\u001b[0m comm_small\u001b[0m\n",
      "│     └─ \u001b[38;5;22m0.093\u001b[0m MPI_Bcast\u001b[0m\n",
      "├─ \u001b[38;5;22m0.001\u001b[0m comp\u001b[0m\n",
      "│  └─ \u001b[38;5;22m0.001\u001b[0m comp_small\u001b[0m\n",
      "├─ \u001b[38;5;22m0.000\u001b[0m correctness_check\u001b[0m\n",
      "└─ \u001b[38;5;22m0.004\u001b[0m data_init_runtime\u001b[0m\n",
      "   └─ \u001b[38;5;22m0.004\u001b[0m MPI_Gather\u001b[0m\n",
      "\n",
      "\u001b[4mLegend\u001b[0m (Metric: Avg time/rank Min: 0.00 Max: 3.19 indices: {'profile': 3108327465})\n",
      "\u001b[38;5;196m█ \u001b[0m2.87 - 3.19\n",
      "\u001b[38;5;208m█ \u001b[0m2.24 - 2.87\n",
      "\u001b[38;5;220m█ \u001b[0m1.60 - 2.24\n",
      "\u001b[38;5;46m█ \u001b[0m0.96 - 1.60\n",
      "\u001b[38;5;34m█ \u001b[0m0.32 - 0.96\n",
      "\u001b[38;5;22m█ \u001b[0m0.00 - 0.32\n",
      "\n",
      "name\u001b[0m User code    \u001b[38;5;160m◀ \u001b[0m Only in left graph    \u001b[38;5;28m▶ \u001b[0m Only in right graph\n",
      "\n"
     ]
    }
   ],
   "source": [
    "print(tk.tree(metric_column=\"Avg time/rank\"))"
   ]
  },
  {
   "cell_type": "markdown",
   "metadata": {},
   "source": [
    "Group Performance data by `matrix_size` in the Thicket metadata table."
   ]
  },
  {
   "cell_type": "code",
   "execution_count": null,
   "metadata": {},
   "outputs": [],
   "source": [
    "tk.metadata_column_to_perfdata(\"num_procs\")\n",
    "tk.metadata_column_to_perfdata(\"matrix_size\")\n",
    "\n",
    "tk.dataframe = tk.dataframe.reset_index().set_index([\"node\", \"num_procs\", \"matrix_size\"]).sort_index()\n",
    "\n",
    "tk.dataframe.head()"
   ]
  },
  {
   "cell_type": "code",
   "execution_count": null,
   "metadata": {},
   "outputs": [],
   "source": [
    "# Define common variables\n",
    "processes = [2, 4, 8, 16, 32, 64]\n",
    "matrix_sizes = [128, 1024, 8192]"
   ]
  },
  {
   "cell_type": "code",
   "execution_count": null,
   "metadata": {},
   "outputs": [],
   "source": [
    "# Change font size for all plots\n",
    "plt.rcParams.update({\"font.size\": 20})\n",
    "print(tk.dataframe.columns)\n"
   ]
  },
  {
   "cell_type": "code",
   "execution_count": null,
   "metadata": {},
   "outputs": [],
   "source": [
    "def plot_pandas(df, title, xlabel, ylabel):\n",
    "    plot = df.plot(kind=\"line\", \n",
    "        marker='o', \n",
    "        figsize=(15,7)\n",
    "    )\n",
    "    # Set title, xlabel, and ylabel explicitly\n",
    "    plot.set_title(title)\n",
    "    plot.set_xlabel(xlabel)\n",
    "    plot.set_ylabel(ylabel)\n",
    "    return plot\n"
   ]
  },
  {
   "cell_type": "code",
   "execution_count": null,
   "metadata": {},
   "outputs": [],
   "source": [
    "# Saving plots for 'Total time'\n",
    "for node in tk.graph.traverse():\n",
    "    plot = plot_pandas(\n",
    "        df=tk.dataframe.loc[node, \"Total time\"].unstack(level=\"matrix_size\"),\n",
    "        title=node.frame[\"name\"] + \" Total Computation Times\",\n",
    "        xlabel=\"Processors\",\n",
    "        ylabel=\"Time (seconds)\",\n",
    "    )\n",
    "    # Save the plot with a unique filename for each node\n",
    "    plt.savefig(f\"{node.frame['name']}_total_time_plot.png\")\n",
    "    plt.close()  # Close the figure to avoid overlapping plots\n",
    "\n",
    "# Saving plots for 'Min time/rank'\n",
    "for node in tk.graph.traverse():\n",
    "    plot = plot_pandas(\n",
    "        df=tk.dataframe.loc[node, \"Min time/rank\"].unstack(level=\"matrix_size\"),\n",
    "        title=node.frame[\"name\"] + \" Minimum Times\",\n",
    "        xlabel=\"Processors\",\n",
    "        ylabel=\"Time (seconds)\",\n",
    "    )\n",
    "    plt.savefig(f\"{node.frame['name']}_min_time_plot.png\")\n",
    "    plt.close()\n",
    "\n",
    "# Saving plots for 'Avg time/rank'\n",
    "for node in tk.graph.traverse():\n",
    "    plot = plot_pandas(\n",
    "        df=tk.dataframe.loc[node, \"Avg time/rank\"].unstack(level=\"matrix_size\"),\n",
    "        title=node.frame[\"name\"] + \" Average Times\",\n",
    "        xlabel=\"Processors\",\n",
    "        ylabel=\"Time (seconds)\",\n",
    "    )\n",
    "    plt.savefig(f\"{node.frame['name']}_avg_time_plot.png\")\n",
    "    plt.close()\n",
    "\n",
    "# Saving plots for 'Max time/rank'\n",
    "for node in tk.graph.traverse():\n",
    "    plot = plot_pandas(\n",
    "        df=tk.dataframe.loc[node, \"Max time/rank\"].unstack(level=\"matrix_size\"),\n",
    "        title=node.frame[\"name\"] + \" Maximum Time\",\n",
    "        xlabel=\"Processors\",\n",
    "        ylabel=\"Time (seconds)\",\n",
    "    )\n",
    "    plt.savefig(f\"{node.frame['name']}_max_time_plot.png\")\n",
    "    plt.close()"
   ]
  },
  {
   "cell_type": "code",
   "execution_count": null,
   "metadata": {},
   "outputs": [],
   "source": []
  }
 ],
 "metadata": {
  "kernelspec": {
   "display_name": "Python 3 (ipykernel)",
   "language": "python",
   "name": "python3"
  },
  "language_info": {
   "codemirror_mode": {
    "name": "ipython",
    "version": 3
   },
   "file_extension": ".py",
   "mimetype": "text/x-python",
   "name": "python",
   "nbconvert_exporter": "python",
   "pygments_lexer": "ipython3",
   "version": "3.10.4"
  }
 },
 "nbformat": 4,
 "nbformat_minor": 4
}
