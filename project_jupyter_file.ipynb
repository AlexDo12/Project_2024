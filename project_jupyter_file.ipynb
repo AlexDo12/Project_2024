{
 "cells": [
  {
   "cell_type": "code",
   "execution_count": 1,
   "metadata": {},
   "outputs": [
    {
     "name": "stdout",
     "output_type": "stream",
     "text": [
      "Warning: Roundtrip module could not be loaded. Requires jupyter notebook version <= 7.x.\n"
     ]
    }
   ],
   "source": [
    "import sys\n",
    "# sys.path.append(\"/scratch/group/csce435-f24/python-3.10.4/lib/python3.10/site-packages\")\n",
    "# sys.path.append(\"/scratch/group/csce435-f24/thicket\")\n",
    "from glob import glob\n",
    "\n",
    "import matplotlib.pyplot as plt\n",
    "import pandas as pd\n",
    "\n",
    "import thicket as th\n",
    "\n",
    "pd.set_option(\"display.max_rows\", None)\n",
    "pd.set_option(\"display.max_columns\", None)"
   ]
  },
  {
   "cell_type": "markdown",
   "metadata": {},
   "source": [
    "Read all files"
   ]
  },
  {
   "cell_type": "code",
   "execution_count": 2,
   "metadata": {},
   "outputs": [
    {
     "name": "stderr",
     "output_type": "stream",
     "text": [
      "0it [00:00, ?it/s]\n"
     ]
    },
    {
     "ename": "IndexError",
     "evalue": "list index out of range",
     "output_type": "error",
     "traceback": [
      "\u001b[0;31m---------------------------------------------------------------------------\u001b[0m",
      "\u001b[0;31mIndexError\u001b[0m                                Traceback (most recent call last)",
      "Cell \u001b[0;32mIn[2], line 2\u001b[0m\n\u001b[1;32m      1\u001b[0m \u001b[38;5;66;03m#1_trial is a name of a folder containing the cali files, you may create a folder with a different name and replace the folder name here\u001b[39;00m\n\u001b[0;32m----> 2\u001b[0m tk \u001b[38;5;241m=\u001b[39m \u001b[43mth\u001b[49m\u001b[38;5;241;43m.\u001b[39;49m\u001b[43mThicket\u001b[49m\u001b[38;5;241;43m.\u001b[39;49m\u001b[43mfrom_caliperreader\u001b[49m\u001b[43m(\u001b[49m\u001b[43mglob\u001b[49m\u001b[43m(\u001b[49m\u001b[38;5;124;43m\"\u001b[39;49m\u001b[38;5;124;43mcali_files/sample/*.cali\u001b[39;49m\u001b[38;5;124;43m\"\u001b[39;49m\u001b[43m)\u001b[49m\u001b[43m)\u001b[49m\n",
      "File \u001b[0;32m~/.local/lib/python3.10/site-packages/thicket/thicket.py:242\u001b[0m, in \u001b[0;36mThicket.from_caliperreader\u001b[0;34m(filename_or_caliperreader, intersection, disable_tqdm)\u001b[0m\n\u001b[1;32m    230\u001b[0m \u001b[38;5;129m@staticmethod\u001b[39m\n\u001b[1;32m    231\u001b[0m \u001b[38;5;28;01mdef\u001b[39;00m \u001b[38;5;21mfrom_caliperreader\u001b[39m(\n\u001b[1;32m    232\u001b[0m     filename_or_caliperreader, intersection\u001b[38;5;241m=\u001b[39m\u001b[38;5;28;01mFalse\u001b[39;00m, disable_tqdm\u001b[38;5;241m=\u001b[39m\u001b[38;5;28;01mFalse\u001b[39;00m\n\u001b[1;32m    233\u001b[0m ):\n\u001b[1;32m    234\u001b[0m \u001b[38;5;250m    \u001b[39m\u001b[38;5;124;03m\"\"\"Helper function to read one caliper file.\u001b[39;00m\n\u001b[1;32m    235\u001b[0m \n\u001b[1;32m    236\u001b[0m \u001b[38;5;124;03m    Arguments:\u001b[39;00m\n\u001b[0;32m   (...)\u001b[0m\n\u001b[1;32m    240\u001b[0m \u001b[38;5;124;03m        disable_tqdm (bool): whether to display tqdm progress bar\u001b[39;00m\n\u001b[1;32m    241\u001b[0m \u001b[38;5;124;03m    \"\"\"\u001b[39;00m\n\u001b[0;32m--> 242\u001b[0m     \u001b[38;5;28;01mreturn\u001b[39;00m \u001b[43mThicket\u001b[49m\u001b[38;5;241;43m.\u001b[39;49m\u001b[43mreader_dispatch\u001b[49m\u001b[43m(\u001b[49m\n\u001b[1;32m    243\u001b[0m \u001b[43m        \u001b[49m\u001b[43mGraphFrame\u001b[49m\u001b[38;5;241;43m.\u001b[39;49m\u001b[43mfrom_caliperreader\u001b[49m\u001b[43m,\u001b[49m\n\u001b[1;32m    244\u001b[0m \u001b[43m        \u001b[49m\u001b[43mintersection\u001b[49m\u001b[43m,\u001b[49m\n\u001b[1;32m    245\u001b[0m \u001b[43m        \u001b[49m\u001b[43mdisable_tqdm\u001b[49m\u001b[43m,\u001b[49m\n\u001b[1;32m    246\u001b[0m \u001b[43m        \u001b[49m\u001b[43mfilename_or_caliperreader\u001b[49m\u001b[43m,\u001b[49m\n\u001b[1;32m    247\u001b[0m \u001b[43m    \u001b[49m\u001b[43m)\u001b[49m\n",
      "File \u001b[0;32m~/.local/lib/python3.10/site-packages/thicket/thicket.py:340\u001b[0m, in \u001b[0;36mThicket.reader_dispatch\u001b[0;34m(func, intersection, disable_tqdm, *args, **kwargs)\u001b[0m\n\u001b[1;32m    338\u001b[0m \u001b[38;5;28;01mif\u001b[39;00m intersection:\n\u001b[1;32m    339\u001b[0m     calltree \u001b[38;5;241m=\u001b[39m \u001b[38;5;124m\"\u001b[39m\u001b[38;5;124mintersection\u001b[39m\u001b[38;5;124m\"\u001b[39m\n\u001b[0;32m--> 340\u001b[0m thicket_object \u001b[38;5;241m=\u001b[39m \u001b[43mThicket\u001b[49m\u001b[38;5;241;43m.\u001b[39;49m\u001b[43mconcat_thickets\u001b[49m\u001b[43m(\u001b[49m\n\u001b[1;32m    341\u001b[0m \u001b[43m    \u001b[49m\u001b[43mthickets\u001b[49m\u001b[38;5;241;43m=\u001b[39;49m\u001b[43mens_list\u001b[49m\u001b[43m,\u001b[49m\n\u001b[1;32m    342\u001b[0m \u001b[43m    \u001b[49m\u001b[43maxis\u001b[49m\u001b[38;5;241;43m=\u001b[39;49m\u001b[38;5;124;43m\"\u001b[39;49m\u001b[38;5;124;43mindex\u001b[39;49m\u001b[38;5;124;43m\"\u001b[39;49m\u001b[43m,\u001b[49m\n\u001b[1;32m    343\u001b[0m \u001b[43m    \u001b[49m\u001b[43mcalltree\u001b[49m\u001b[38;5;241;43m=\u001b[39;49m\u001b[43mcalltree\u001b[49m\u001b[43m,\u001b[49m\n\u001b[1;32m    344\u001b[0m \u001b[43m    \u001b[49m\u001b[43mdisable_tqdm\u001b[49m\u001b[38;5;241;43m=\u001b[39;49m\u001b[43mdisable_tqdm\u001b[49m\u001b[43m,\u001b[49m\n\u001b[1;32m    345\u001b[0m \u001b[43m\u001b[49m\u001b[43m)\u001b[49m\n\u001b[1;32m    347\u001b[0m \u001b[38;5;28;01mreturn\u001b[39;00m thicket_object\n",
      "File \u001b[0;32m~/.local/lib/python3.10/site-packages/thicket/thicket.py:405\u001b[0m, in \u001b[0;36mThicket.concat_thickets\u001b[0;34m(thickets, axis, calltree, disable_tqdm, **kwargs)\u001b[0m\n\u001b[1;32m    402\u001b[0m     \u001b[38;5;28;01mraise\u001b[39;00m \u001b[38;5;167;01mValueError\u001b[39;00m(\u001b[38;5;124m\"\u001b[39m\u001b[38;5;124mcalltree must be \u001b[39m\u001b[38;5;124m'\u001b[39m\u001b[38;5;124munion\u001b[39m\u001b[38;5;124m'\u001b[39m\u001b[38;5;124m or \u001b[39m\u001b[38;5;124m'\u001b[39m\u001b[38;5;124mintersection\u001b[39m\u001b[38;5;124m'\u001b[39m\u001b[38;5;124m\"\u001b[39m)\n\u001b[1;32m    404\u001b[0m \u001b[38;5;28;01mif\u001b[39;00m axis \u001b[38;5;241m==\u001b[39m \u001b[38;5;124m\"\u001b[39m\u001b[38;5;124mindex\u001b[39m\u001b[38;5;124m\"\u001b[39m:\n\u001b[0;32m--> 405\u001b[0m     ct \u001b[38;5;241m=\u001b[39m \u001b[43m_index\u001b[49m\u001b[43m(\u001b[49m\u001b[43mthickets\u001b[49m\u001b[43m,\u001b[49m\u001b[43m \u001b[49m\u001b[38;5;241;43m*\u001b[39;49m\u001b[38;5;241;43m*\u001b[39;49m\u001b[43mkwargs\u001b[49m\u001b[43m)\u001b[49m\n\u001b[1;32m    406\u001b[0m \u001b[38;5;28;01melif\u001b[39;00m axis \u001b[38;5;241m==\u001b[39m \u001b[38;5;124m\"\u001b[39m\u001b[38;5;124mcolumns\u001b[39m\u001b[38;5;124m\"\u001b[39m:\n\u001b[1;32m    407\u001b[0m     ct \u001b[38;5;241m=\u001b[39m _columns(thickets, \u001b[38;5;241m*\u001b[39m\u001b[38;5;241m*\u001b[39mkwargs)\n",
      "File \u001b[0;32m~/.local/lib/python3.10/site-packages/thicket/thicket.py:373\u001b[0m, in \u001b[0;36mThicket.concat_thickets.<locals>._index\u001b[0;34m(thickets, from_statsframes, disable_tqdm)\u001b[0m\n\u001b[1;32m    372\u001b[0m \u001b[38;5;28;01mdef\u001b[39;00m \u001b[38;5;21m_index\u001b[39m(thickets, from_statsframes\u001b[38;5;241m=\u001b[39m\u001b[38;5;28;01mFalse\u001b[39;00m, disable_tqdm\u001b[38;5;241m=\u001b[39mdisable_tqdm):\n\u001b[0;32m--> 373\u001b[0m     thicket_parts \u001b[38;5;241m=\u001b[39m \u001b[43mEnsemble\u001b[49m\u001b[38;5;241;43m.\u001b[39;49m\u001b[43m_index\u001b[49m\u001b[43m(\u001b[49m\n\u001b[1;32m    374\u001b[0m \u001b[43m        \u001b[49m\u001b[43mthickets\u001b[49m\u001b[38;5;241;43m=\u001b[39;49m\u001b[43mthickets\u001b[49m\u001b[43m,\u001b[49m\n\u001b[1;32m    375\u001b[0m \u001b[43m        \u001b[49m\u001b[43mfrom_statsframes\u001b[49m\u001b[38;5;241;43m=\u001b[39;49m\u001b[43mfrom_statsframes\u001b[49m\u001b[43m,\u001b[49m\n\u001b[1;32m    376\u001b[0m \u001b[43m        \u001b[49m\u001b[43mdisable_tqdm\u001b[49m\u001b[38;5;241;43m=\u001b[39;49m\u001b[43mdisable_tqdm\u001b[49m\u001b[43m,\u001b[49m\n\u001b[1;32m    377\u001b[0m \u001b[43m    \u001b[49m\u001b[43m)\u001b[49m\n\u001b[1;32m    379\u001b[0m     \u001b[38;5;28;01mreturn\u001b[39;00m Thicket(\n\u001b[1;32m    380\u001b[0m         graph\u001b[38;5;241m=\u001b[39mthicket_parts[\u001b[38;5;241m0\u001b[39m],\n\u001b[1;32m    381\u001b[0m         dataframe\u001b[38;5;241m=\u001b[39mthicket_parts[\u001b[38;5;241m1\u001b[39m],\n\u001b[0;32m   (...)\u001b[0m\n\u001b[1;32m    386\u001b[0m         profile_mapping\u001b[38;5;241m=\u001b[39mthicket_parts[\u001b[38;5;241m6\u001b[39m],\n\u001b[1;32m    387\u001b[0m     )\n",
      "File \u001b[0;32m~/.local/lib/python3.10/site-packages/thicket/ensemble.py:435\u001b[0m, in \u001b[0;36mEnsemble._index\u001b[0;34m(thickets, from_statsframes, disable_tqdm)\u001b[0m\n\u001b[1;32m    432\u001b[0m unify_profile_mapping \u001b[38;5;241m=\u001b[39m OrderedDict()\n\u001b[1;32m    434\u001b[0m \u001b[38;5;66;03m# Unification\u001b[39;00m\n\u001b[0;32m--> 435\u001b[0m unify_graph, thickets \u001b[38;5;241m=\u001b[39m \u001b[43mEnsemble\u001b[49m\u001b[38;5;241;43m.\u001b[39;49m\u001b[43m_unify\u001b[49m\u001b[43m(\u001b[49m\u001b[43mthickets\u001b[49m\u001b[43m,\u001b[49m\u001b[43m \u001b[49m\u001b[43mdisable_tqdm\u001b[49m\u001b[38;5;241;43m=\u001b[39;49m\u001b[43mdisable_tqdm\u001b[49m\u001b[43m)\u001b[49m\n\u001b[1;32m    436\u001b[0m \u001b[38;5;28;01mfor\u001b[39;00m th \u001b[38;5;129;01min\u001b[39;00m thickets:\n\u001b[1;32m    437\u001b[0m     \u001b[38;5;66;03m# Extend metrics\u001b[39;00m\n\u001b[1;32m    438\u001b[0m     unify_inc_metrics\u001b[38;5;241m.\u001b[39mextend(th\u001b[38;5;241m.\u001b[39minc_metrics)\n",
      "File \u001b[0;32m~/.local/lib/python3.10/site-packages/thicket/ensemble.py:104\u001b[0m, in \u001b[0;36mEnsemble._unify\u001b[0;34m(thickets, inplace, disable_tqdm)\u001b[0m\n\u001b[1;32m    102\u001b[0m helpers\u001b[38;5;241m.\u001b[39m_set_node_ordering(_thickets)\n\u001b[1;32m    103\u001b[0m \u001b[38;5;66;03m# Unify graphs if \"self\" and \"other\" do not have the same graph\u001b[39;00m\n\u001b[0;32m--> 104\u001b[0m union_graph \u001b[38;5;241m=\u001b[39m \u001b[43m_thickets\u001b[49m\u001b[43m[\u001b[49m\u001b[38;5;241;43m0\u001b[39;49m\u001b[43m]\u001b[49m\u001b[38;5;241m.\u001b[39mgraph\n\u001b[1;32m    105\u001b[0m old_to_new \u001b[38;5;241m=\u001b[39m {}\n\u001b[1;32m    106\u001b[0m pbar \u001b[38;5;241m=\u001b[39m tqdm\u001b[38;5;241m.\u001b[39mtqdm(\u001b[38;5;28mrange\u001b[39m(\u001b[38;5;28mlen\u001b[39m(_thickets) \u001b[38;5;241m-\u001b[39m \u001b[38;5;241m1\u001b[39m), disable\u001b[38;5;241m=\u001b[39mdisable_tqdm)\n",
      "\u001b[0;31mIndexError\u001b[0m: list index out of range"
     ]
    }
   ],
   "source": [
    "#1_trial is a name of a folder containing the cali files, you may create a folder with a different name and replace the folder name here\n",
    "tk = th.Thicket.from_caliperreader(glob(\"cali_files/sample/2/*.cali\"))"
   ]
  },
  {
   "cell_type": "markdown",
   "metadata": {},
   "source": [
    "View Calltree"
   ]
  },
  {
   "cell_type": "code",
   "execution_count": null,
   "metadata": {},
   "outputs": [],
   "source": [
    "print(tk.tree(metric_column=\"Avg time/rank\"))"
   ]
  },
  {
   "cell_type": "markdown",
   "metadata": {},
   "source": [
    "Group Performance data by `matrix_size` in the Thicket metadata table."
   ]
  },
  {
   "cell_type": "code",
   "execution_count": null,
   "metadata": {},
   "outputs": [],
   "source": [
    "tk.metadata_column_to_perfdata(\"num_procs\")\n",
    "tk.metadata_column_to_perfdata(\"matrix_size\")\n",
    "\n",
    "tk.dataframe = tk.dataframe.reset_index().set_index([\"node\", \"num_procs\", \"matrix_size\"]).sort_index()\n",
    "\n",
    "tk.dataframe.head()"
   ]
  },
  {
   "cell_type": "code",
   "execution_count": null,
   "metadata": {},
   "outputs": [],
   "source": [
    "# Define common variables\n",
    "processes = [2, 4, 8, 16, 32, 64]\n",
    "matrix_sizes = [128, 1024, 8192]"
   ]
  },
  {
   "cell_type": "code",
   "execution_count": null,
   "metadata": {},
   "outputs": [],
   "source": [
    "# Change font size for all plots\n",
    "plt.rcParams.update({\"font.size\": 20})\n",
    "print(tk.dataframe.columns)\n"
   ]
  },
  {
   "cell_type": "code",
   "execution_count": null,
   "metadata": {},
   "outputs": [],
   "source": [
    "def plot_pandas(df, title, xlabel, ylabel):\n",
    "    plot = df.plot(kind=\"line\", \n",
    "        marker='o', \n",
    "        figsize=(15,7)\n",
    "    )\n",
    "    # Set title, xlabel, and ylabel explicitly\n",
    "    plot.set_title(title)\n",
    "    plot.set_xlabel(xlabel)\n",
    "    plot.set_ylabel(ylabel)\n",
    "    return plot\n"
   ]
  },
  {
   "cell_type": "code",
   "execution_count": null,
   "metadata": {},
   "outputs": [],
   "source": [
    "# Saving plots for 'Total time'\n",
    "for node in tk.graph.traverse():\n",
    "    plot = plot_pandas(\n",
    "        df=tk.dataframe.loc[node, \"Total time\"].unstack(level=\"matrix_size\"),\n",
    "        title=node.frame[\"name\"] + \" Total Computation Times\",\n",
    "        xlabel=\"Processors\",\n",
    "        ylabel=\"Time (seconds)\",\n",
    "    )\n",
    "    # Save the plot with a unique filename for each node\n",
    "    plt.savefig(f\"{node.frame['name']}_total_time_plot.png\")\n",
    "    plt.close()  # Close the figure to avoid overlapping plots\n",
    "\n",
    "# Saving plots for 'Min time/rank'\n",
    "for node in tk.graph.traverse():\n",
    "    plot = plot_pandas(\n",
    "        df=tk.dataframe.loc[node, \"Min time/rank\"].unstack(level=\"matrix_size\"),\n",
    "        title=node.frame[\"name\"] + \" Minimum Times\",\n",
    "        xlabel=\"Processors\",\n",
    "        ylabel=\"Time (seconds)\",\n",
    "    )\n",
    "    plt.savefig(f\"{node.frame['name']}_min_time_plot.png\")\n",
    "    plt.close()\n",
    "\n",
    "# Saving plots for 'Avg time/rank'\n",
    "for node in tk.graph.traverse():\n",
    "    plot = plot_pandas(\n",
    "        df=tk.dataframe.loc[node, \"Avg time/rank\"].unstack(level=\"matrix_size\"),\n",
    "        title=node.frame[\"name\"] + \" Average Times\",\n",
    "        xlabel=\"Processors\",\n",
    "        ylabel=\"Time (seconds)\",\n",
    "    )\n",
    "    plt.savefig(f\"{node.frame['name']}_avg_time_plot.png\")\n",
    "    plt.close()\n",
    "\n",
    "# Saving plots for 'Max time/rank'\n",
    "for node in tk.graph.traverse():\n",
    "    plot = plot_pandas(\n",
    "        df=tk.dataframe.loc[node, \"Max time/rank\"].unstack(level=\"matrix_size\"),\n",
    "        title=node.frame[\"name\"] + \" Maximum Time\",\n",
    "        xlabel=\"Processors\",\n",
    "        ylabel=\"Time (seconds)\",\n",
    "    )\n",
    "    plt.savefig(f\"{node.frame['name']}_max_time_plot.png\")\n",
    "    plt.close()"
   ]
  },
  {
   "cell_type": "code",
   "execution_count": null,
   "metadata": {},
   "outputs": [],
   "source": []
  }
 ],
 "metadata": {
  "kernelspec": {
   "display_name": "Python 3",
   "language": "python",
   "name": "python3"
  },
  "language_info": {
   "codemirror_mode": {
    "name": "ipython",
    "version": 3
   },
   "file_extension": ".py",
   "mimetype": "text/x-python",
   "name": "python",
   "nbconvert_exporter": "python",
   "pygments_lexer": "ipython3",
   "version": "3.10.12"
  }
 },
 "nbformat": 4,
 "nbformat_minor": 4
}
